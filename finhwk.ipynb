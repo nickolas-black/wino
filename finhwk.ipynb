{
 "cells": [
  {
   "cell_type": "code",
   "execution_count": 1,
   "metadata": {
    "_uuid": "f5cae91227dc658b925f72fb19ce074018242968",
    "colab": {},
    "colab_type": "code",
    "id": "81ckHb9ehIBS"
   },
   "outputs": [],
   "source": [
    "import pandas as pd\n",
    "from sklearn.model_selection import train_test_split\n",
    "from sklearn.impute import SimpleImputer\n",
    "from sklearn.ensemble import RandomForestClassifier\n",
    "from sklearn.metrics import accuracy_score\n",
    "import pickle\n",
    "import requests\n",
    "import json"
   ]
  },
  {
   "cell_type": "code",
   "execution_count": 2,
   "metadata": {
    "_uuid": "f6f580742b3c0b56b06988813959783dadc58872",
    "colab": {
     "base_uri": "https://localhost:8080/",
     "height": 413
    },
    "colab_type": "code",
    "id": "2dEIFwV-iOBM",
    "outputId": "3f25b05b-df4c-4b50-9558-a8e06845a5e6"
   },
   "outputs": [],
   "source": [
    "# Imputer to fill in missing values\n",
    "# Classified the continous sequence into 'good' & 'bad' categories\n",
    "df = pd.read_csv('winequality-red1.csv')\n",
    "imputer = SimpleImputer()\n",
    "imputer.fit_transform(df)\n",
    "bins = (1, 6.5, 12)\n",
    "group_names = ['bad', 'good']\n",
    "df['quality'] = pd.cut(df['quality'], bins=bins, labels=group_names)\n",
    "df['quality'] = df['quality'].cat.codes\n",
    "X = df.drop(['quality'], axis=1)\n",
    "y = df[['quality']]\n",
    "train_X, test_X, train_y, test_y = train_test_split(X, y, test_size=0.25, random_state=47)\n"
   ]
  },
  {
   "cell_type": "markdown",
   "metadata": {
    "_uuid": "9eac68c5944244a54b9bf2ca9a3b4774152ee7b0",
    "colab_type": "text",
    "id": "SffCiHik0vzL"
   },
   "source": [
    "# Random Forest Classifier"
   ]
  },
  {
   "cell_type": "code",
   "execution_count": 3,
   "metadata": {
    "_uuid": "897bdca445a80327f240fe2797e2a586ed439bbc",
    "colab": {
     "base_uri": "https://localhost:8080/",
     "height": 109
    },
    "colab_type": "code",
    "id": "GrtGB1ifo5Fg",
    "outputId": "cd345eda-38ad-4d43-dace-9d256493ccea"
   },
   "outputs": [
    {
     "name": "stderr",
     "output_type": "stream",
     "text": [
      "C:\\Users\\USER\\Anaconda3\\lib\\site-packages\\ipykernel_launcher.py:2: DataConversionWarning: A column-vector y was passed when a 1d array was expected. Please change the shape of y to (n_samples,), for example using ravel().\n",
      "  \n"
     ]
    },
    {
     "name": "stdout",
     "output_type": "stream",
     "text": [
      "Accuracy score: 0.91\n"
     ]
    }
   ],
   "source": [
    "clf1 = RandomForestClassifier(n_estimators=100, n_jobs=-1, max_depth=25)\n",
    "clf1.fit(train_X, train_y)\n",
    "y_pred = clf1.predict(test_X)\n",
    "predicted = clf1.predict(test_X)\n",
    "print(f\"Accuracy score: {accuracy_score(test_y, predicted)}\")"
   ]
  },
  {
   "cell_type": "code",
   "execution_count": 4,
   "metadata": {},
   "outputs": [
    {
     "name": "stdout",
     "output_type": "stream",
     "text": [
      "[1 0 0 0 0 0 0 0 0 0 0 0 0 0 1 0 0 1 0 0 0 0 0 1 0 0 0 0 0 0 0 1 0 0 0 0 0\n",
      " 0 0 1 0 0 1 0 0 0 0 0 0 0 0 0 0 0 0 0 0 0 0 1 1 0 0 0 1 0 0 0 0 0 0 0 0 1\n",
      " 1 0 0 0 0 0 0 0 0 0 0 0 0 0 0 1 0 0 0 0 0 0 0 0 0 0 0 0 0 0 0 0 0 0 0 0 0\n",
      " 0 0 0 0 0 0 0 0 0 0 0 0 0 1 0 0 0 0 1 0 0 0 0 0 0 0 0 0 0 0 0 0 0 0 0 0 0\n",
      " 0 0 0 0 0 0 0 0 0 0 0 0 0 0 0 0 0 0 0 0 0 0 0 0 0 1 0 0 0 0 0 0 1 0 0 0 0\n",
      " 0 0 1 0 0 0 1 0 0 0 0 0 1 0 0 0 0 0 0 0 0 0 0 0 1 0 0 1 0 0 0 1 0 0 1 0 0\n",
      " 0 0 1 0 0 0 0 0 0 0 0 0 0 0 0 0 1 0 0 0 0 0 0 0 0 1 0 0 0 0 0 1 0 0 0 0 0\n",
      " 0 0 0 0 0 0 0 0 0 0 0 0 0 0 0 0 0 0 0 0 0 1 0 0 0 0 0 0 0 0 0 0 0 0 0 0 0\n",
      " 0 0 0 0 0 0 0 0 0 0 0 0 0 0 0 0 0 0 0 0 0 0 0 0 1 0 0 0 1 0 0 0 0 0 0 0 0\n",
      " 0 0 0 0 0 0 0 0 0 0 0 0 0 1 0 0 0 0 0 0 0 0 0 1 0 0 0 0 0 1 0 0 0 0 0 0 0\n",
      " 0 0 0 0 0 0 0 0 0 0 0 0 0 0 0 0 0 0 0 0 0 0 0 0 0 0 0 0 0 1]\n"
     ]
    }
   ],
   "source": [
    "print(y_pred)"
   ]
  },
  {
   "cell_type": "code",
   "execution_count": 5,
   "metadata": {},
   "outputs": [
    {
     "name": "stdout",
     "output_type": "stream",
     "text": [
      "     fix_acid  vol_acid  cit_acid  res_sug  chlorides  frsuldiox  totsuldiox  \\\n",
      "423      10.5      0.24      0.47      2.1      0.066        6.0        24.0   \n",
      "832      10.4      0.44      0.42      1.5      0.145       34.0        48.0   \n",
      "782       9.0      0.82      0.05      2.4      0.081       26.0        96.0   \n",
      "\n",
      "     density    pH  sulphates  alcohol  \n",
      "423  0.99780  3.15       0.90     11.0  \n",
      "832  0.99832  3.38       0.86      9.9  \n",
      "782  0.99814  3.36       0.53     10.0  \n"
     ]
    }
   ],
   "source": [
    "print(test_X.head(3))"
   ]
  },
  {
   "cell_type": "code",
   "execution_count": 6,
   "metadata": {},
   "outputs": [],
   "source": [
    "pickle.dump(clf1, open('modelw2.pkl','wb'))"
   ]
  },
  {
   "cell_type": "code",
   "execution_count": 7,
   "metadata": {},
   "outputs": [
    {
     "name": "stdout",
     "output_type": "stream",
     "text": [
      "[1]\n"
     ]
    }
   ],
   "source": [
    "model = pickle.load(open('modelw2.pkl','rb'))\n",
    "\n",
    "print(model.predict([[10.5,0.24,0.47,2.1,0.066,6.0,24.0,0.99780,3.15,0.90,11.0]]))"
   ]
  },
  {
   "cell_type": "code",
   "execution_count": 8,
   "metadata": {},
   "outputs": [
    {
     "name": "stdout",
     "output_type": "stream",
     "text": [
      "[1]\n"
     ]
    }
   ],
   "source": [
    "print (clf1.predict([[10.5,0.24,0.47,2.1,0.066,6.0,24.0,0.99780,3.15,0.90,11.0]]))"
   ]
  }
 ],
 "metadata": {
  "colab": {
   "collapsed_sections": [],
   "name": "Red Wine Quality.ipynb",
   "provenance": [],
   "version": "0.3.2"
  },
  "kernelspec": {
   "display_name": "Python 3",
   "language": "python",
   "name": "python3"
  },
  "language_info": {
   "codemirror_mode": {
    "name": "ipython",
    "version": 3
   },
   "file_extension": ".py",
   "mimetype": "text/x-python",
   "name": "python",
   "nbconvert_exporter": "python",
   "pygments_lexer": "ipython3",
   "version": "3.7.3"
  }
 },
 "nbformat": 4,
 "nbformat_minor": 1
}
